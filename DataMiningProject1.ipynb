{
 "cells": [
  {
   "cell_type": "markdown",
   "metadata": {},
   "source": [
    "## 1. DATA MANIPULATIONS"
   ]
  },
  {
   "cell_type": "markdown",
   "metadata": {},
   "source": [
    "### 1.1. In our case, two manipulations should be made to datesets.\n",
    "\n",
    "    1. In all of the datasets, there are one redundant data at the most left side per row. Looks like these are some \n",
    "    kind of 'id' features, but in our case we don't need them. So first thing, we need to get rid of these.\n",
    "    2. In datatest2, there are lack of double quotes (\") around the 'date' column. To use our data efficiently, we \n",
    "    need to add them."
   ]
  },
  {
   "cell_type": "code",
   "execution_count": 49,
   "metadata": {},
   "outputs": [],
   "source": [
    "lines = []\n",
    "#First, we need to read the txt file. Then get every line of the file into an array: lines.\n",
    "with open('/home/emremrah/Desktop/DataMin/Project1/datatraining.txt', 'r') as file:\n",
    "    lines = file.readlines()\n",
    "    \n",
    "new_lines = []\n",
    "#Copy the 'header' row first.\n",
    "new_lines.append(lines[0])\n",
    "# Then, to copy each row, after split them by comma, we skip the most left data, and copy rest of it.\n",
    "for line in lines[1:]:\n",
    "    new_lines.append(','.join(l for l in line.split(',')[1:]))\n",
    "\n",
    "# Then write our new data into a CSV file.\n",
    "with open('/home/emremrah/Desktop/DataMin/Project1/datatraining.csv', 'w') as file:\n",
    "    file.writelines(new_lines)\n",
    "    \n",
    "################################################################################\n",
    "    \n",
    "with open('/home/emremrah/Desktop/DataMin/Project1/datatest.txt', 'r') as file:\n",
    "    lines = file.readlines()\n",
    "    \n",
    "new_lines = []\n",
    "new_lines.append(lines[0])\n",
    "for line in lines[1:]:\n",
    "    new_lines.append(','.join(l for l in line.split(',')[1:]))\n",
    "    \n",
    "with open('/home/emremrah/Desktop/DataMin/Project1/datatest.csv', 'w') as file:\n",
    "    file.writelines(new_lines)\n",
    "\n",
    "################################################################################\n",
    "    \n",
    "with open('/home/emremrah/Desktop/DataMin/Project1/datatest2.txt', 'r') as file:\n",
    "    lines = file.readlines()\n",
    "    \n",
    "new_lines = []\n",
    "new_lines.append(lines[0])\n",
    "# Here, we will add the quotes around the 'date' column.\n",
    "for line in lines[1:]:\n",
    "    i = line.index(',') + 1\n",
    "    i2 = line[i:].index(',')\n",
    "    line = line[:i] + '\"' + line[i:i+i2] + '\"' + line[i+i2:]\n",
    "    new_lines.append(','.join(l for l in line.split(',')[1:]))\n",
    "    \n",
    "with open('/home/emremrah/Desktop/DataMin/Project1/datatest2.csv', 'w') as file:\n",
    "    file.writelines(new_lines)"
   ]
  },
  {
   "cell_type": "markdown",
   "metadata": {},
   "source": [
    "#### After this, we can get our data to a pandas dataframe."
   ]
  },
  {
   "cell_type": "code",
   "execution_count": 64,
   "metadata": {},
   "outputs": [],
   "source": [
    "import pandas as pd\n",
    "\n",
    "path = \"/home/emremrah/Desktop/DataMin/Project1/datatraining.csv\"\n",
    "train = pd.read_csv(path)\n",
    "path = \"/home/emremrah/Desktop/DataMin/Project1/datatest.csv\"\n",
    "test = pd.read_csv(path)\n",
    "path = \"/home/emremrah/Desktop/DataMin/Project1/datatest2.csv\"\n",
    "test2 = pd.read_csv(path)"
   ]
  },
  {
   "cell_type": "markdown",
   "metadata": {},
   "source": [
    "#### Now, let's take a look to our data."
   ]
  },
  {
   "cell_type": "code",
   "execution_count": 66,
   "metadata": {
    "scrolled": true
   },
   "outputs": [
    {
     "name": "stdout",
     "output_type": "stream",
     "text": [
      "Training set:\n",
      "                  date  Temperature  Humidity  Light     CO2  HumidityRatio  \\\n",
      "0  2015-02-04 17:51:00        23.18   27.2720  426.0  721.25       0.004793   \n",
      "1  2015-02-04 17:51:59        23.15   27.2675  429.5  714.00       0.004783   \n",
      "2  2015-02-04 17:53:00        23.15   27.2450  426.0  713.50       0.004779   \n",
      "3  2015-02-04 17:54:00        23.15   27.2000  426.0  708.25       0.004772   \n",
      "4  2015-02-04 17:55:00        23.10   27.2000  426.0  704.50       0.004757   \n",
      "\n",
      "   Occupancy  \n",
      "0          1  \n",
      "1          1  \n",
      "2          1  \n",
      "3          1  \n",
      "4          1  \n",
      "\n",
      "Keys of TRAINING data:\n",
      "Index(['date', 'Temperature', 'Humidity', 'Light', 'CO2', 'HumidityRatio',\n",
      "       'Occupancy'],\n",
      "      dtype='object')\n",
      "\n",
      "Keys of TEST1 data:\n",
      "Index(['date', 'Temperature', 'Humidity', 'Light', 'CO2', 'HumidityRatio',\n",
      "       'Occupancy'],\n",
      "      dtype='object')\n",
      "\n",
      "Keys of TEST2 data:\n",
      "Index(['date', 'Temperature', 'Humidity', 'Light', 'CO2', 'HumidityRatio',\n",
      "       'Occupancy'],\n",
      "      dtype='object')\n"
     ]
    }
   ],
   "source": [
    "print(\"Training set:\\n{}\".format(train.head()))\n",
    "# print(\"\\nTest set #1:\\n{}\".format(test.head()))\n",
    "# print(\"\\nTest set #2:\\n{}\".format(test2.head()))\n",
    "print(\"\\nKeys of TRAINING data:\\n{}\".format(train.keys()))\n",
    "print(\"\\nKeys of TEST1 data:\\n{}\".format(test.keys()))\n",
    "print(\"\\nKeys of TEST2 data:\\n{}\".format(test.keys()))"
   ]
  },
  {
   "cell_type": "markdown",
   "metadata": {},
   "source": [
    "#### As you can see, all of them have the same struct. After some time, we are going to drop the 'Occupancy' column from training set, and drop all features except 'Occupancy' column from test1 and test2 sets to first train then test our models."
   ]
  },
  {
   "cell_type": "markdown",
   "metadata": {},
   "source": [
    "### 1.2. After that, here is another struggle, the date feature can't be processed by our algorithms right now.\n",
    "\n",
    "    So, I want to change the date to a 'weekday' feature. By doing that, from monday to sunday, each day will\n",
    "    correspond to an integer number from 0 to 6. Which can be used by our algorithms.\n",
    "    \n",
    "    To do that I use datetime.strptime function to get weekday from our preprocessed 'date' data."
   ]
  },
  {
   "cell_type": "code",
   "execution_count": 67,
   "metadata": {},
   "outputs": [],
   "source": [
    "import datetime\n",
    "\n",
    "def dt(st):\n",
    "    return datetime.datetime.strptime(st, '%Y-%m-%d %H:%M:%S').weekday()\n",
    "\n",
    "for i, dd in enumerate(train['date']):\n",
    "    train.iloc[i, train.columns.get_loc('date')] = dt(train['date'].iloc[i])\n",
    "    \n",
    "for i, dd in enumerate(test['date']):\n",
    "    test.iloc[i, test.columns.get_loc('date')] = dt(test['date'].iloc[i])\n",
    "    \n",
    "for i, dd in enumerate(test2['date']):\n",
    "    test2.iloc[i, test2.columns.get_loc('date')] = dt(test2['date'].iloc[i])"
   ]
  },
  {
   "cell_type": "markdown",
   "metadata": {},
   "source": [
    "#### Now our 'date' column only cosist weekday from 0 to 6 for each weekday."
   ]
  },
  {
   "cell_type": "code",
   "execution_count": 68,
   "metadata": {},
   "outputs": [
    {
     "name": "stdout",
     "output_type": "stream",
     "text": [
      "Training set:\n",
      "   date  Temperature  Humidity  Light     CO2  HumidityRatio  Occupancy\n",
      "0     2        23.18   27.2720  426.0  721.25       0.004793          1\n",
      "1     2        23.15   27.2675  429.5  714.00       0.004783          1\n",
      "2     2        23.15   27.2450  426.0  713.50       0.004779          1\n",
      "3     2        23.15   27.2000  426.0  708.25       0.004772          1\n",
      "4     2        23.10   27.2000  426.0  704.50       0.004757          1\n"
     ]
    }
   ],
   "source": [
    "print(\"Training set:\\n{}\".format(train.head()))"
   ]
  },
  {
   "cell_type": "markdown",
   "metadata": {},
   "source": [
    "## 2. CLOSE LOOK TO DATASET"
   ]
  },
  {
   "cell_type": "markdown",
   "metadata": {},
   "source": [
    "#### After preparing our data to process, we will take a close look to understand what we have."
   ]
  },
  {
   "cell_type": "markdown",
   "metadata": {},
   "source": [
    "### 2.1. Understanding the data"
   ]
  },
  {
   "cell_type": "markdown",
   "metadata": {},
   "source": [
    "#### Lets take a look to our data's shape:"
   ]
  },
  {
   "cell_type": "code",
   "execution_count": 69,
   "metadata": {},
   "outputs": [
    {
     "name": "stdout",
     "output_type": "stream",
     "text": [
      "\n",
      "Train shape: (8143, 7)\n",
      "\n",
      "Test1 shape: (2665, 7)\n",
      "\n",
      "Test2 shape: (9752, 7)\n"
     ]
    }
   ],
   "source": [
    "print(\"\\nTrain shape: {}\".format(train.shape))\n",
    "print(\"\\nTest1 shape: {}\".format(test.shape))\n",
    "print(\"\\nTest2 shape: {}\".format(test2.shape))"
   ]
  },
  {
   "cell_type": "markdown",
   "metadata": {},
   "source": [
    "#### As seen, since our data already has splitted, we don't need to split it again.\n",
    "    \n",
    "    Several things should be made right now:\n",
    "    \n",
    "    In all of data, we are going to split them to x and y (input-output).\n",
    "    \n",
    "    Since 'Occupancy' isn't a feature, it's our output that we want to predict, we must seperate it from X (input)\n",
    "    sets; we only want it in the y (output) sets. If we don't do that, models will suppose 'Occupancy' is a feature,\n",
    "    but it's not.\n",
    "    "
   ]
  },
  {
   "cell_type": "code",
   "execution_count": 70,
   "metadata": {},
   "outputs": [],
   "source": [
    "target = train[\"Occupancy\"].values\n",
    "target2 = test[\"Occupancy\"].values\n",
    "target3 = test2[\"Occupancy\"].values\n",
    "\n",
    "xtrain = train;\n",
    "del xtrain[\"Occupancy\"]\n",
    "ytrain = target\n",
    "\n",
    "\n",
    "xtest = test;\n",
    "del xtest[\"Occupancy\"]\n",
    "ytest = target2\n",
    "\n",
    "xtest2 = test2;\n",
    "del xtest2[\"Occupancy\"]\n",
    "ytest2 = target3"
   ]
  },
  {
   "cell_type": "markdown",
   "metadata": {},
   "source": [
    "    Here we made it. Now all trains have 6 features except 'Occupancy' and all test have only 'Occupancy'."
   ]
  },
  {
   "cell_type": "code",
   "execution_count": 77,
   "metadata": {},
   "outputs": [
    {
     "name": "stdout",
     "output_type": "stream",
     "text": [
      "xtrain shape: (8143, 6)\n",
      "\n",
      "ytrain shape: (8143,)\n",
      "\n",
      "ytrain: [1 1 1 ..., 1 1 1]\n",
      "\n"
     ]
    }
   ],
   "source": [
    "print(\"xtrain shape: {}\\n\".format(xtrain.shape))\n",
    "print(\"ytrain shape: {}\\n\".format(ytrain.shape))\n",
    "print(\"ytrain: {}\\n\".format(ytrain))"
   ]
  },
  {
   "cell_type": "code",
   "execution_count": null,
   "metadata": {},
   "outputs": [],
   "source": []
  }
 ],
 "metadata": {
  "kernelspec": {
   "display_name": "Python 3",
   "language": "python",
   "name": "python3"
  },
  "language_info": {
   "codemirror_mode": {
    "name": "ipython",
    "version": 3
   },
   "file_extension": ".py",
   "mimetype": "text/x-python",
   "name": "python",
   "nbconvert_exporter": "python",
   "pygments_lexer": "ipython3",
   "version": "3.5.2"
  }
 },
 "nbformat": 4,
 "nbformat_minor": 2
}
